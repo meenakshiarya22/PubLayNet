{
  "cells": [
    {
      "cell_type": "markdown",
      "metadata": {
        "collapsed": true,
        "id": "leuKJM9TC_ji"
      },
      "source": [
        "# PubTabNet Dataset\n",
        "\n",
        "PubTabNet is a large dataset for image-based table recognition, containing 568k+ images of tabular data annotated with the corresponding HTML representation of the tables.\n",
        " \n",
        "The dataset is open sourced by IBM Research Australia and is [available to download freely](https://developer.ibm.com/exchanges/data/all/pubtabnet/) on the IBM Developer [Data Asset Exchange](http://ibm.biz/data-exchange). \n",
        "\n",
        "This notebook can be found on [GitHub](https://github.com/ibm-aur-nlp/PubTabNet) and [Watson Studio](https://dataplatform.cloud.ibm.com/analytics/notebooks/v2/0aa641b0-af25-4470-b9e1-6b33d6b5b66a/view?access_token=b7d5880bb60c253457a72e3ec76f9ab40ccc42c607331acdcbbbe21be4c46bc8)."
      ]
    },
    {
      "cell_type": "code",
      "source": [
        "!pip install jsonlines"
      ],
      "metadata": {
        "colab": {
          "base_uri": "https://localhost:8080/"
        },
        "id": "hSxis-UaICIe",
        "outputId": "5fc17801-69f8-411a-eb5b-58c34e1d5300"
      },
      "execution_count": 2,
      "outputs": [
        {
          "output_type": "stream",
          "name": "stdout",
          "text": [
            "Looking in indexes: https://pypi.org/simple, https://us-python.pkg.dev/colab-wheels/public/simple/\n",
            "Collecting jsonlines\n",
            "  Downloading jsonlines-3.1.0-py3-none-any.whl (8.6 kB)\n",
            "Requirement already satisfied: attrs>=19.2.0 in /usr/local/lib/python3.7/dist-packages (from jsonlines) (22.1.0)\n",
            "Requirement already satisfied: typing-extensions in /usr/local/lib/python3.7/dist-packages (from jsonlines) (4.1.1)\n",
            "Installing collected packages: jsonlines\n",
            "Successfully installed jsonlines-3.1.0\n"
          ]
        }
      ]
    },
    {
      "cell_type": "code",
      "execution_count": 3,
      "metadata": {
        "id": "zJDJnCXWC_j8"
      },
      "outputs": [],
      "source": [
        "# importing prerequisites\n",
        "import sys\n",
        "import requests\n",
        "import tarfile\n",
        "import jsonlines\n",
        "import numpy as np\n",
        "from os import path\n",
        "from PIL import Image\n",
        "from PIL import ImageFont, ImageDraw\n",
        "from glob import glob\n",
        "from matplotlib import pyplot as plt\n",
        "%matplotlib inline"
      ]
    },
    {
      "cell_type": "markdown",
      "metadata": {
        "id": "yH86UHNyC_j_"
      },
      "source": [
        "## Download and Extract the Dataset\n",
        "\n",
        "Since the dataset is large (~12GB), here we will be downloading a small subset of the data and extract it. "
      ]
    },
    {
      "cell_type": "code",
      "execution_count": 4,
      "metadata": {
        "id": "Mj8mf1gwC_kA",
        "outputId": "9df36931-97ac-4aa8-814e-06fbddc10b4c",
        "colab": {
          "base_uri": "https://localhost:8080/"
        }
      },
      "outputs": [
        {
          "output_type": "execute_result",
          "data": {
            "text/plain": [
              "386348"
            ]
          },
          "metadata": {},
          "execution_count": 4
        }
      ],
      "source": [
        "fname = 'examples.tar.gz'\n",
        "url = 'https://dax-cdn.cdn.appdomain.cloud/dax-pubtabnet/2.0.0/' + fname\n",
        "r = requests.get(url)\n",
        "open(fname , 'wb').write(r.content)"
      ]
    },
    {
      "cell_type": "code",
      "execution_count": 5,
      "metadata": {
        "id": "ex81CLGEC_kD"
      },
      "outputs": [],
      "source": [
        "# Extracting the dataset\n",
        "tar = tarfile.open(fname)\n",
        "tar.extractall()\n",
        "tar.close()"
      ]
    },
    {
      "cell_type": "code",
      "execution_count": 6,
      "metadata": {
        "id": "R2M6wvE0C_kF",
        "outputId": "26633f8b-3463-4a0c-bb89-99f1ef1af7e1",
        "colab": {
          "base_uri": "https://localhost:8080/"
        }
      },
      "outputs": [
        {
          "output_type": "execute_result",
          "data": {
            "text/plain": [
              "True"
            ]
          },
          "metadata": {},
          "execution_count": 6
        }
      ],
      "source": [
        "# Verifying the file was extracted properly\n",
        "data_path = \"examples/\"\n",
        "path.exists(data_path)"
      ]
    },
    {
      "cell_type": "markdown",
      "metadata": {
        "id": "0-GsxRTgC_kG"
      },
      "source": [
        "## Visualizing the Data\n",
        "\n",
        "In this section, we visualize the raw image and extract it's HTML annotation from the JSON file. \n",
        "We further render the table using Jupyter notebook's inbuilt HTML capabilities. "
      ]
    },
    {
      "cell_type": "code",
      "execution_count": 7,
      "metadata": {
        "id": "2mlkteaoC_kH"
      },
      "outputs": [],
      "source": [
        "# Helper function to read in tables from the annotations\n",
        "from bs4 import BeautifulSoup as bs\n",
        "from html import escape\n",
        "\n",
        "def format_html(img):\n",
        "    ''' Formats HTML code from tokenized annotation of img\n",
        "    '''\n",
        "    html_code = img['html']['structure']['tokens'].copy()\n",
        "    to_insert = [i for i, tag in enumerate(html_code) if tag in ('<td>', '>')]\n",
        "    for i, cell in zip(to_insert[::-1], img['html']['cells'][::-1]):\n",
        "        if cell['tokens']:\n",
        "            cell = [escape(token) if len(token) == 1 else token for token in cell['tokens']]\n",
        "            cell = ''.join(cell)\n",
        "            html_code.insert(i + 1, cell)\n",
        "    html_code = ''.join(html_code)\n",
        "    html_code = '''<html>\n",
        "                   <head>\n",
        "                   <meta charset=\"UTF-8\">\n",
        "                   <style>\n",
        "                   table, th, td {\n",
        "                     border: 1px solid black;\n",
        "                     font-size: 10px;\n",
        "                   }\n",
        "                   </style>\n",
        "                   </head>\n",
        "                   <body>\n",
        "                   <table frame=\"hsides\" rules=\"groups\" width=\"100%%\">\n",
        "                     %s\n",
        "                   </table>\n",
        "                   </body>\n",
        "                   </html>''' % html_code\n",
        "\n",
        "    # prettify the html\n",
        "    soup = bs(html_code)\n",
        "    html_code = soup.prettify()\n",
        "    return html_code"
      ]
    },
    {
      "cell_type": "code",
      "execution_count": 11,
      "metadata": {
        "scrolled": true,
        "id": "NJh8zLFsC_kK"
      },
      "outputs": [],
      "source": [
        "# Loading an example annotation\n",
        "with jsonlines.open('examples/PubTabNet_Examples.jsonl', 'r') as reader:\n",
        "    img = list(reader)[2]"
      ]
    },
    {
      "cell_type": "code",
      "execution_count": 12,
      "metadata": {
        "id": "iVfCDuKpC_kM",
        "outputId": "15f3daf2-34fb-40f3-bb93-041fd01f0bb8",
        "colab": {
          "base_uri": "https://localhost:8080/",
          "height": 103
        }
      },
      "outputs": [
        {
          "output_type": "execute_result",
          "data": {
            "image/png": "[encoded data removed]",
            "text/plain": [
              "<IPython.core.display.Image object>"
            ]
          },
          "metadata": {},
          "execution_count": 12
        }
      ],
      "source": [
        "# Showing the raw image\n",
        "from IPython.display import Image as displayImage\n",
        "filename = img['filename']\n",
        "displayImage(\"/content/examples/examples/\"+filename)"
      ]
    },
    {
      "cell_type": "code",
      "execution_count": 14,
      "metadata": {
        "id": "xW8na90pC_kN",
        "outputId": "e90c8916-580b-4bce-c1cc-849e460d16ec",
        "colab": {
          "base_uri": "https://localhost:8080/"
        }
      },
      "outputs": [
        {
          "output_type": "stream",
          "name": "stdout",
          "text": [
            "<html>\n",
            " <head>\n",
            "  <meta charset=\"utf-8\"/>\n",
            "  <style>\n",
            "   table, th, td {\n",
            "                     border: 1px solid black;\n",
            "                     font-size: 10px;\n",
            "                   }\n",
            "  </style>\n",
            " </head>\n",
            " <body>\n",
            "  <table frame=\"hsides\" rules=\"groups\" width=\"100%\">\n",
            "   <thead>\n",
            "    <tr>\n",
            "     <td>\n",
            "      <b>\n",
            "       Prior Experience\n",
            "      </b>\n",
            "     </td>\n",
            "     <td>\n",
            "      <b>\n",
            "       One\n",
            "      </b>\n",
            "     </td>\n",
            "     <td>\n",
            "      <b>\n",
            "       Two\n",
            "      </b>\n",
            "     </td>\n",
            "     <td>\n",
            "      <b>\n",
            "       Three or More\n",
            "      </b>\n",
            "     </td>\n",
            "     <td>\n",
            "      <b>\n",
            "       Total\n",
            "      </b>\n",
            "     </td>\n",
            "    </tr>\n",
            "   </thead>\n",
            "   <tbody>\n",
            "    <tr>\n",
            "     <td>\n",
            "      High\n",
            "     </td>\n",
            "     <td>\n",
            "      5\n",
            "     </td>\n",
            "     <td>\n",
            "      6\n",
            "     </td>\n",
            "     <td>\n",
            "      2\n",
            "     </td>\n",
            "     <td>\n",
            "      13\n",
            "     </td>\n",
            "    </tr>\n",
            "    <tr>\n",
            "     <td>\n",
            "      Medium-High/Medium\n",
            "     </td>\n",
            "     <td>\n",
            "      4\n",
            "     </td>\n",
            "     <td>\n",
            "      8\n",
            "     </td>\n",
            "     <td>\n",
            "      5\n",
            "     </td>\n",
            "     <td>\n",
            "      17\n",
            "     </td>\n",
            "    </tr>\n",
            "    <tr>\n",
            "     <td>\n",
            "      Low/Very-Low\n",
            "     </td>\n",
            "     <td>\n",
            "      3\n",
            "     </td>\n",
            "     <td>\n",
            "      1\n",
            "     </td>\n",
            "     <td>\n",
            "      2\n",
            "     </td>\n",
            "     <td>\n",
            "      6\n",
            "     </td>\n",
            "    </tr>\n",
            "    <tr>\n",
            "     <td>\n",
            "      Total\n",
            "     </td>\n",
            "     <td>\n",
            "      12\n",
            "     </td>\n",
            "     <td>\n",
            "      15\n",
            "     </td>\n",
            "     <td>\n",
            "      9\n",
            "     </td>\n",
            "     <td>\n",
            "      36\n",
            "     </td>\n",
            "    </tr>\n",
            "   </tbody>\n",
            "  </table>\n",
            " </body>\n",
            "</html>\n"
          ]
        }
      ],
      "source": [
        "# Extracting the HTML for the table from the annotation\n",
        "html_string = format_html(img)\n",
        "print(html_string)"
      ]
    },
    {
      "cell_type": "code",
      "execution_count": 15,
      "metadata": {
        "id": "PJAfuB-pC_kO",
        "outputId": "a7ccf800-5ff0-44ac-c3d1-0e7360caf248",
        "colab": {
          "base_uri": "https://localhost:8080/",
          "height": 95
        }
      },
      "outputs": [
        {
          "output_type": "display_data",
          "data": {
            "text/plain": [
              "<IPython.core.display.HTML object>"
            ],
            "text/html": [
              "<html>\n",
              " <head>\n",
              "  <meta charset=\"utf-8\"/>\n",
              "  <style>\n",
              "   table, th, td {\n",
              "                     border: 1px solid black;\n",
              "                     font-size: 10px;\n",
              "                   }\n",
              "  </style>\n",
              " </head>\n",
              " <body>\n",
              "  <table frame=\"hsides\" rules=\"groups\" width=\"100%\">\n",
              "   <thead>\n",
              "    <tr>\n",
              "     <td>\n",
              "      <b>\n",
              "       Prior Experience\n",
              "      </b>\n",
              "     </td>\n",
              "     <td>\n",
              "      <b>\n",
              "       One\n",
              "      </b>\n",
              "     </td>\n",
              "     <td>\n",
              "      <b>\n",
              "       Two\n",
              "      </b>\n",
              "     </td>\n",
              "     <td>\n",
              "      <b>\n",
              "       Three or More\n",
              "      </b>\n",
              "     </td>\n",
              "     <td>\n",
              "      <b>\n",
              "       Total\n",
              "      </b>\n",
              "     </td>\n",
              "    </tr>\n",
              "   </thead>\n",
              "   <tbody>\n",
              "    <tr>\n",
              "     <td>\n",
              "      High\n",
              "     </td>\n",
              "     <td>\n",
              "      5\n",
              "     </td>\n",
              "     <td>\n",
              "      6\n",
              "     </td>\n",
              "     <td>\n",
              "      2\n",
              "     </td>\n",
              "     <td>\n",
              "      13\n",
              "     </td>\n",
              "    </tr>\n",
              "    <tr>\n",
              "     <td>\n",
              "      Medium-High/Medium\n",
              "     </td>\n",
              "     <td>\n",
              "      4\n",
              "     </td>\n",
              "     <td>\n",
              "      8\n",
              "     </td>\n",
              "     <td>\n",
              "      5\n",
              "     </td>\n",
              "     <td>\n",
              "      17\n",
              "     </td>\n",
              "    </tr>\n",
              "    <tr>\n",
              "     <td>\n",
              "      Low/Very-Low\n",
              "     </td>\n",
              "     <td>\n",
              "      3\n",
              "     </td>\n",
              "     <td>\n",
              "      1\n",
              "     </td>\n",
              "     <td>\n",
              "      2\n",
              "     </td>\n",
              "     <td>\n",
              "      6\n",
              "     </td>\n",
              "    </tr>\n",
              "    <tr>\n",
              "     <td>\n",
              "      Total\n",
              "     </td>\n",
              "     <td>\n",
              "      12\n",
              "     </td>\n",
              "     <td>\n",
              "      15\n",
              "     </td>\n",
              "     <td>\n",
              "      9\n",
              "     </td>\n",
              "     <td>\n",
              "      36\n",
              "     </td>\n",
              "    </tr>\n",
              "   </tbody>\n",
              "  </table>\n",
              " </body>\n",
              "</html>"
            ]
          },
          "metadata": {}
        }
      ],
      "source": [
        "# Rendering the above HTML in Jupyter Notebook for a more readable format\n",
        "from IPython.core.display import display, HTML\n",
        "display(HTML(html_string))"
      ]
    },
    {
      "cell_type": "code",
      "source": [],
      "metadata": {
        "id": "89-77iuoanOT"
      },
      "execution_count": null,
      "outputs": []
    }
  ],
  "metadata": {
    "kernelspec": {
      "display_name": "Python 3",
      "language": "python",
      "name": "python3"
    },
    "language_info": {
      "codemirror_mode": {
        "name": "ipython",
        "version": 3
      },
      "file_extension": ".py",
      "mimetype": "text/x-python",
      "name": "python",
      "nbconvert_exporter": "python",
      "pygments_lexer": "ipython3",
      "version": "3.6.8"
    },
    "colab": {
      "provenance": []
    }
  },
  "nbformat": 4,
  "nbformat_minor": 0
}